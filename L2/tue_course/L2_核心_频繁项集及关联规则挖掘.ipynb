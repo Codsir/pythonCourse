{
 "metadata": {
  "language_info": {
   "codemirror_mode": {
    "name": "ipython",
    "version": 3
   },
   "file_extension": ".py",
   "mimetype": "text/x-python",
   "name": "python",
   "nbconvert_exporter": "python",
   "pygments_lexer": "ipython3",
   "version": "3.7.4-final"
  },
  "orig_nbformat": 2,
  "kernelspec": {
   "name": "python_defaultSpec_1598800938294",
   "display_name": "Python 3.7.4 64-bit ('base': conda)"
  }
 },
 "nbformat": 4,
 "nbformat_minor": 2,
 "cells": [
  {
   "cell_type": "code",
   "execution_count": 2,
   "metadata": {},
   "outputs": [],
   "source": [
    "# -*- coding:utf-8 -*-\n",
    " \n",
    "#针对MarketBasket数据集进行购物篮分析（频繁项集及关联规则挖掘）\n",
    "\n",
    "import pandas as pd\n",
    "from mlxtend.frequent_patterns import apriori\n",
    "from mlxtend.frequent_patterns import association_rules\n"
   ]
  },
  {
   "cell_type": "code",
   "execution_count": 59,
   "metadata": {},
   "outputs": [],
   "source": [
    "def get_itemSet_rul(df_oneHotCoding,support, lift):\n",
    "    # 挖掘频繁项集，并按照支持度大小排序\n",
    "    itemsets = apriori(df_dummies,use_colnames=True, min_support=support).sort_values( by = 'support', ascending = True)\n",
    "    # 根据频繁项集计算关联规则， 并按照提升度从大到小进行排序\n",
    "    rules =  association_rules(itemsets, metric='lift', min_threshold= lift).sort_values( by = 'lift', ascending = True)\n",
    "    return itemsets, rules"
   ]
  },
  {
   "cell_type": "code",
   "execution_count": 69,
   "metadata": {
    "tags": []
   },
   "outputs": [],
   "source": [
    "#数据加载\n",
    "df =  pd.read_csv('E:/bi_course/biCourse/Market_Basket_Optimisation.csv', header = None, sep=\"\\t\")\n",
    "#转成one-hot Coding\n",
    "df_oneHotCoding = df[0].str.get_dummies(sep=\",\")\n",
    "\n",
    "#挖掘频繁项集及关联规则\n",
    "itemsets, rules = get_itemSet_rule(df_oneHotCoding,support = 0.02, lift = 1.8)"
   ]
  },
  {
   "cell_type": "code",
   "execution_count": 70,
   "metadata": {
    "tags": []
   },
   "outputs": [
    {
     "output_type": "execute_result",
     "data": {
      "text/plain": "     support                           itemsets\n98  0.020131  (mineral water, whole wheat rice)\n78  0.020131           (pancakes, french fries)\n67  0.020131       (cooking oil, mineral water)\n80  0.020264   (frozen smoothie, mineral water)\n0   0.020397                          (almonds)\n..       ...                                ...\n9   0.163845                        (chocolate)\n17  0.170911                     (french fries)\n44  0.174110                        (spaghetti)\n13  0.179709                             (eggs)\n34  0.238368                    (mineral water)\n\n[103 rows x 2 columns]",
      "text/html": "<div>\n<style scoped>\n    .dataframe tbody tr th:only-of-type {\n        vertical-align: middle;\n    }\n\n    .dataframe tbody tr th {\n        vertical-align: top;\n    }\n\n    .dataframe thead th {\n        text-align: right;\n    }\n</style>\n<table border=\"1\" class=\"dataframe\">\n  <thead>\n    <tr style=\"text-align: right;\">\n      <th></th>\n      <th>support</th>\n      <th>itemsets</th>\n    </tr>\n  </thead>\n  <tbody>\n    <tr>\n      <td>98</td>\n      <td>0.020131</td>\n      <td>(mineral water, whole wheat rice)</td>\n    </tr>\n    <tr>\n      <td>78</td>\n      <td>0.020131</td>\n      <td>(pancakes, french fries)</td>\n    </tr>\n    <tr>\n      <td>67</td>\n      <td>0.020131</td>\n      <td>(cooking oil, mineral water)</td>\n    </tr>\n    <tr>\n      <td>80</td>\n      <td>0.020264</td>\n      <td>(frozen smoothie, mineral water)</td>\n    </tr>\n    <tr>\n      <td>0</td>\n      <td>0.020397</td>\n      <td>(almonds)</td>\n    </tr>\n    <tr>\n      <td>...</td>\n      <td>...</td>\n      <td>...</td>\n    </tr>\n    <tr>\n      <td>9</td>\n      <td>0.163845</td>\n      <td>(chocolate)</td>\n    </tr>\n    <tr>\n      <td>17</td>\n      <td>0.170911</td>\n      <td>(french fries)</td>\n    </tr>\n    <tr>\n      <td>44</td>\n      <td>0.174110</td>\n      <td>(spaghetti)</td>\n    </tr>\n    <tr>\n      <td>13</td>\n      <td>0.179709</td>\n      <td>(eggs)</td>\n    </tr>\n    <tr>\n      <td>34</td>\n      <td>0.238368</td>\n      <td>(mineral water)</td>\n    </tr>\n  </tbody>\n</table>\n<p>103 rows × 2 columns</p>\n</div>"
     },
     "metadata": {},
     "execution_count": 70
    }
   ],
   "source": [
    "itemsets"
   ]
  },
  {
   "cell_type": "code",
   "execution_count": 71,
   "metadata": {},
   "outputs": [
    {
     "output_type": "execute_result",
     "data": {
      "text/plain": "           antecedents          consequents  antecedent support  \\\n6               (eggs)            (burgers)            0.179709   \n7            (burgers)               (eggs)            0.087188   \n4               (milk)  (frozen vegetables)            0.129583   \n5  (frozen vegetables)               (milk)            0.095321   \n2               (soup)      (mineral water)            0.050527   \n3      (mineral water)               (soup)            0.238368   \n1          (spaghetti)          (olive oil)            0.174110   \n0          (olive oil)          (spaghetti)            0.065858   \n9        (ground beef)          (spaghetti)            0.098254   \n8          (spaghetti)        (ground beef)            0.174110   \n\n   consequent support   support  confidence      lift  leverage  conviction  \n6            0.087188  0.028796    0.160237  1.837830  0.013128    1.086988  \n7            0.179709  0.028796    0.330275  1.837830  0.013128    1.224818  \n4            0.095321  0.023597    0.182099  1.910382  0.011245    1.106099  \n5            0.129583  0.023597    0.247552  1.910382  0.011245    1.156781  \n2            0.238368  0.023064    0.456464  1.914955  0.011020    1.401255  \n3            0.050527  0.023064    0.096756  1.914955  0.011020    1.051182  \n1            0.065858  0.022930    0.131700  1.999758  0.011464    1.075829  \n0            0.174110  0.022930    0.348178  1.999758  0.011464    1.267048  \n9            0.174110  0.039195    0.398915  2.291162  0.022088    1.373997  \n8            0.098254  0.039195    0.225115  2.291162  0.022088    1.163716  ",
      "text/html": "<div>\n<style scoped>\n    .dataframe tbody tr th:only-of-type {\n        vertical-align: middle;\n    }\n\n    .dataframe tbody tr th {\n        vertical-align: top;\n    }\n\n    .dataframe thead th {\n        text-align: right;\n    }\n</style>\n<table border=\"1\" class=\"dataframe\">\n  <thead>\n    <tr style=\"text-align: right;\">\n      <th></th>\n      <th>antecedents</th>\n      <th>consequents</th>\n      <th>antecedent support</th>\n      <th>consequent support</th>\n      <th>support</th>\n      <th>confidence</th>\n      <th>lift</th>\n      <th>leverage</th>\n      <th>conviction</th>\n    </tr>\n  </thead>\n  <tbody>\n    <tr>\n      <td>6</td>\n      <td>(eggs)</td>\n      <td>(burgers)</td>\n      <td>0.179709</td>\n      <td>0.087188</td>\n      <td>0.028796</td>\n      <td>0.160237</td>\n      <td>1.837830</td>\n      <td>0.013128</td>\n      <td>1.086988</td>\n    </tr>\n    <tr>\n      <td>7</td>\n      <td>(burgers)</td>\n      <td>(eggs)</td>\n      <td>0.087188</td>\n      <td>0.179709</td>\n      <td>0.028796</td>\n      <td>0.330275</td>\n      <td>1.837830</td>\n      <td>0.013128</td>\n      <td>1.224818</td>\n    </tr>\n    <tr>\n      <td>4</td>\n      <td>(milk)</td>\n      <td>(frozen vegetables)</td>\n      <td>0.129583</td>\n      <td>0.095321</td>\n      <td>0.023597</td>\n      <td>0.182099</td>\n      <td>1.910382</td>\n      <td>0.011245</td>\n      <td>1.106099</td>\n    </tr>\n    <tr>\n      <td>5</td>\n      <td>(frozen vegetables)</td>\n      <td>(milk)</td>\n      <td>0.095321</td>\n      <td>0.129583</td>\n      <td>0.023597</td>\n      <td>0.247552</td>\n      <td>1.910382</td>\n      <td>0.011245</td>\n      <td>1.156781</td>\n    </tr>\n    <tr>\n      <td>2</td>\n      <td>(soup)</td>\n      <td>(mineral water)</td>\n      <td>0.050527</td>\n      <td>0.238368</td>\n      <td>0.023064</td>\n      <td>0.456464</td>\n      <td>1.914955</td>\n      <td>0.011020</td>\n      <td>1.401255</td>\n    </tr>\n    <tr>\n      <td>3</td>\n      <td>(mineral water)</td>\n      <td>(soup)</td>\n      <td>0.238368</td>\n      <td>0.050527</td>\n      <td>0.023064</td>\n      <td>0.096756</td>\n      <td>1.914955</td>\n      <td>0.011020</td>\n      <td>1.051182</td>\n    </tr>\n    <tr>\n      <td>1</td>\n      <td>(spaghetti)</td>\n      <td>(olive oil)</td>\n      <td>0.174110</td>\n      <td>0.065858</td>\n      <td>0.022930</td>\n      <td>0.131700</td>\n      <td>1.999758</td>\n      <td>0.011464</td>\n      <td>1.075829</td>\n    </tr>\n    <tr>\n      <td>0</td>\n      <td>(olive oil)</td>\n      <td>(spaghetti)</td>\n      <td>0.065858</td>\n      <td>0.174110</td>\n      <td>0.022930</td>\n      <td>0.348178</td>\n      <td>1.999758</td>\n      <td>0.011464</td>\n      <td>1.267048</td>\n    </tr>\n    <tr>\n      <td>9</td>\n      <td>(ground beef)</td>\n      <td>(spaghetti)</td>\n      <td>0.098254</td>\n      <td>0.174110</td>\n      <td>0.039195</td>\n      <td>0.398915</td>\n      <td>2.291162</td>\n      <td>0.022088</td>\n      <td>1.373997</td>\n    </tr>\n    <tr>\n      <td>8</td>\n      <td>(spaghetti)</td>\n      <td>(ground beef)</td>\n      <td>0.174110</td>\n      <td>0.098254</td>\n      <td>0.039195</td>\n      <td>0.225115</td>\n      <td>2.291162</td>\n      <td>0.022088</td>\n      <td>1.163716</td>\n    </tr>\n  </tbody>\n</table>\n</div>"
     },
     "metadata": {},
     "execution_count": 71
    }
   ],
   "source": [
    "rules"
   ]
  }
 ]
}