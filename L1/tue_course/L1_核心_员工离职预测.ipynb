{
 "metadata": {
  "language_info": {
   "codemirror_mode": {
    "name": "ipython",
    "version": 3
   },
   "file_extension": ".py",
   "mimetype": "text/x-python",
   "name": "python",
   "nbconvert_exporter": "python",
   "pygments_lexer": "ipython3",
   "version": "3.7.4-final"
  },
  "orig_nbformat": 2,
  "kernelspec": {
   "name": "python_defaultSpec_1599387127715",
   "display_name": "Python 3.7.4 64-bit ('base': conda)"
  }
 },
 "nbformat": 4,
 "nbformat_minor": 2,
 "cells": [
  {
   "cell_type": "markdown",
   "metadata": {},
   "source": [
    "#### 员工离职预测\n",
    "- 我们有员工的各种统计信息，以及该员工是否已经离职，统计的信息包括了（工资、出差、工作环境满意度、工作投入度、是否加班、是否升职、工资提升比例等）\n",
    "- 现在需要你来通过训练数据得出 员工离职预测，并给出你在测试集上的预测结果\"\n",
    "- https://www.kaggle.com/c/bi-attrition-prediction/"
   ]
  },
  {
   "cell_type": "code",
   "execution_count": 261,
   "metadata": {},
   "outputs": [],
   "source": [
    "import pandas as pd\n",
    "import numpy as np\n",
    "from sklearn.preprocessing import LabelEncoder, MinMaxScaler\n",
    "from sklearn.model_selection import train_test_split, cross_val_score\n",
    "from sklearn.metrics import roc_auc_score\n",
    " \n",
    "\n",
    "from sklearn.tree import DecisionTreeClassifier\n",
    "from sklearn.linear_model import LogisticRegression\n",
    "from sklearn.naive_bayes import BernoulliNB, MultinomialNB, GaussianNB\n",
    "from sklearn import svm\n",
    "from sklearn.neighbors import KNeighborsClassifier\n",
    "from sklearn.discriminant_analysis import LinearDiscriminantAnalysis\n",
    "from sklearn.ensemble import AdaBoostClassifier, RandomForestClassifier, GradientBoostingClassifier, ExtraTreesClassifier\n",
    "from xgboost import XGBClassifier"
   ]
  },
  {
   "cell_type": "code",
   "execution_count": 262,
   "metadata": {},
   "outputs": [],
   "source": [
    "def data_etl(data):\n",
    "    #targte: Attrition, 需要改成0, 1; test数据没有, pass\n",
    "    if 'Attrition' not in data.columns :\n",
    "        pass\n",
    "    else: \n",
    "        data['Attrition']  = data['Attrition'].replace({'Yes':1, 'No': 0})\n",
    "    \n",
    "    #drop Over18 columns\n",
    "    data.drop(columns = ['Over18'], inplace = True)\n",
    "\n",
    "    #对分类型的数据进行labelEncoder\n",
    "\n",
    "    le = LabelEncoder()\n",
    "\n",
    "    data['BusinessTravel'] = le.fit_transform(data['BusinessTravel'])\n",
    "    data['Department'] = le.fit_transform(data['Department'])\n",
    "    data['EducationField'] = le.fit_transform(data['EducationField'])\n",
    "    data['JobRole'] = le.fit_transform(data['JobRole'])\n",
    "    data['MaritalStatus'] = le.fit_transform(data['MaritalStatus'])\n",
    "    data['Gender'] = le.fit_transform(data['Gender'])\n",
    "    data['OverTime'] = le.fit_transform(data['OverTime'])\n",
    "\n",
    "    return data\n",
    "\n",
    "#训练不同模型并输出分数报告\n",
    "def get_model_score(clf, X_train, y_train, X_test, y_test):\n",
    "\n",
    "    clf.fit(X_train, y_train)\n",
    "    y_predit = clf.predict(X_test)\n",
    "\n",
    "    # 模型表现\n",
    "    report = pd.Series()\n",
    "    report['clfName'] = str(clf).split('(')[0]\n",
    "    report['score']  = round(clf.score(X_train, y_train), 4)\n",
    "    report['cv_score'] = round(np.mean(cross_val_score(clf, X_train, y_train, cv=10)),4)\n",
    "    report['auc_score'] = round(roc_auc_score(y_test, y_predit),4)\n",
    "    report['clf'] = clf\n",
    "    report = pd.DataFrame(report).T\n",
    "\n",
    "    return report"
   ]
  },
  {
   "cell_type": "code",
   "execution_count": 263,
   "metadata": {
    "tags": []
   },
   "outputs": [
    {
     "output_type": "stream",
     "name": "stdout",
     "text": "训练数据行列数: (1176, 36) ; 测试数据行列数: (294, 35)\n-------------------- 训练集数据探索 --------------------\n<class 'pandas.core.frame.DataFrame'>\nRangeIndex: 1176 entries, 0 to 1175\nData columns (total 36 columns):\nuser_id                     1176 non-null int64\nAge                         1176 non-null int64\nAttrition                   1176 non-null object\nBusinessTravel              1176 non-null object\nDailyRate                   1176 non-null int64\nDepartment                  1176 non-null object\nDistanceFromHome            1176 non-null int64\nEducation                   1176 non-null int64\nEducationField              1176 non-null object\nEmployeeCount               1176 non-null int64\nEmployeeNumber              1176 non-null int64\nEnvironmentSatisfaction     1176 non-null int64\nGender                      1176 non-null object\nHourlyRate                  1176 non-null int64\nJobInvolvement              1176 non-null int64\nJobLevel                    1176 non-null int64\nJobRole                     1176 non-null object\nJobSatisfaction             1176 non-null int64\nMaritalStatus               1176 non-null object\nMonthlyIncome               1176 non-null int64\nMonthlyRate                 1176 non-null int64\nNumCompaniesWorked          1176 non-null int64\nOver18                      1176 non-null object\nOverTime                    1176 non-null object\nPercentSalaryHike           1176 non-null int64\nPerformanceRating           1176 non-null int64\nRelationshipSatisfaction    1176 non-null int64\nStandardHours               1176 non-null int64\nStockOptionLevel            1176 non-null int64\nTotalWorkingYears           1176 non-null int64\nTrainingTimesLastYear       1176 non-null int64\nWorkLifeBalance             1176 non-null int64\nYearsAtCompany              1176 non-null int64\nYearsInCurrentRole          1176 non-null int64\nYearsSinceLastPromotion     1176 non-null int64\nYearsWithCurrManager        1176 non-null int64\ndtypes: int64(27), object(9)\nmemory usage: 330.9+ KB\n---------------------------------------- ----------------------------------------\n           user_id          Age    DailyRate  DistanceFromHome    Education  \\\ncount  1176.000000  1176.000000  1176.000000       1176.000000  1176.000000   \nmean    736.124150    36.805272   802.033163          9.159864     2.918367   \nstd     419.336964     9.065549   405.946729          8.137224     1.009809   \nmin       0.000000    18.000000   104.000000          1.000000     1.000000   \n25%     374.750000    30.000000   463.500000          2.000000     2.000000   \n50%     742.500000    36.000000   805.500000          7.000000     3.000000   \n75%    1101.250000    42.250000  1162.000000         14.000000     4.000000   \nmax    1469.000000    60.000000  1499.000000         29.000000     5.000000   \n\n       EmployeeCount  EmployeeNumber  EnvironmentSatisfaction   HourlyRate  \\\ncount         1176.0     1176.000000              1176.000000  1176.000000   \nmean             1.0     1026.960034                 2.750850    65.130102   \nstd              0.0      594.763609                 1.096221    20.294326   \nmin              1.0        1.000000                 1.000000    30.000000   \n25%              1.0      498.750000                 2.000000    48.000000   \n50%              1.0     1031.000000                 3.000000    65.000000   \n75%              1.0     1555.250000                 4.000000    82.250000   \nmax              1.0     2068.000000                 4.000000   100.000000   \n\n       JobInvolvement  ...  RelationshipSatisfaction  StandardHours  \\\ncount     1176.000000  ...               1176.000000         1176.0   \nmean         2.724490  ...                  2.714286           80.0   \nstd          0.715027  ...                  1.080583            0.0   \nmin          1.000000  ...                  1.000000           80.0   \n25%          2.000000  ...                  2.000000           80.0   \n50%          3.000000  ...                  3.000000           80.0   \n75%          3.000000  ...                  4.000000           80.0   \nmax          4.000000  ...                  4.000000           80.0   \n\n       StockOptionLevel  TotalWorkingYears  TrainingTimesLastYear  \\\ncount       1176.000000        1176.000000            1176.000000   \nmean           0.805272          11.161565               2.767007   \nstd            0.865611           7.747576               1.250756   \nmin            0.000000           0.000000               0.000000   \n25%            0.000000           6.000000               2.000000   \n50%            1.000000          10.000000               3.000000   \n75%            1.000000          15.000000               3.000000   \nmax            3.000000          40.000000               6.000000   \n\n       WorkLifeBalance  YearsAtCompany  YearsInCurrentRole  \\\ncount      1176.000000     1176.000000          1176.00000   \nmean          2.764456        6.982143             4.19898   \nstd           0.713251        6.094338             3.63124   \nmin           1.000000        0.000000             0.00000   \n25%           2.000000        3.000000             2.00000   \n50%           3.000000        5.000000             3.00000   \n75%           3.000000        9.000000             7.00000   \nmax           4.000000       40.000000            18.00000   \n\n       YearsSinceLastPromotion  YearsWithCurrManager  \ncount              1176.000000           1176.000000  \nmean                  2.160714              4.098639  \nstd                   3.208052              3.564190  \nmin                   0.000000              0.000000  \n25%                   0.000000              2.000000  \n50%                   1.000000              3.000000  \n75%                   2.250000              7.000000  \nmax                  15.000000             17.000000  \n\n[8 rows x 27 columns]\n-------------------- 测试集数据探索 --------------------\n<class 'pandas.core.frame.DataFrame'>\nRangeIndex: 294 entries, 0 to 293\nData columns (total 35 columns):\nuser_id                     294 non-null int64\nAge                         294 non-null int64\nBusinessTravel              294 non-null object\nDailyRate                   294 non-null int64\nDepartment                  294 non-null object\nDistanceFromHome            294 non-null int64\nEducation                   294 non-null int64\nEducationField              294 non-null object\nEmployeeCount               294 non-null int64\nEmployeeNumber              294 non-null int64\nEnvironmentSatisfaction     294 non-null int64\nGender                      294 non-null object\nHourlyRate                  294 non-null int64\nJobInvolvement              294 non-null int64\nJobLevel                    294 non-null int64\nJobRole                     294 non-null object\nJobSatisfaction             294 non-null int64\nMaritalStatus               294 non-null object\nMonthlyIncome               294 non-null int64\nMonthlyRate                 294 non-null int64\nNumCompaniesWorked          294 non-null int64\nOver18                      294 non-null object\nOverTime                    294 non-null object\nPercentSalaryHike           294 non-null int64\nPerformanceRating           294 non-null int64\nRelationshipSatisfaction    294 non-null int64\nStandardHours               294 non-null int64\nStockOptionLevel            294 non-null int64\nTotalWorkingYears           294 non-null int64\nTrainingTimesLastYear       294 non-null int64\nWorkLifeBalance             294 non-null int64\nYearsAtCompany              294 non-null int64\nYearsInCurrentRole          294 non-null int64\nYearsSinceLastPromotion     294 non-null int64\nYearsWithCurrManager        294 non-null int64\ndtypes: int64(27), object(8)\nmemory usage: 80.5+ KB\n---------------------------------------- ----------------------------------------\n           user_id         Age    DailyRate  DistanceFromHome   Education  \\\ncount   294.000000  294.000000   294.000000        294.000000  294.000000   \nmean    728.003401   37.397959   804.295918          9.323129    2.891156   \nstd     445.219266    9.410335   394.282089          7.996651    1.081203   \nmin       1.000000   18.000000   102.000000          1.000000    1.000000   \n25%     327.000000   31.000000   492.750000          2.000000    2.000000   \n50%     692.500000   36.000000   773.500000          7.000000    3.000000   \n75%    1102.250000   43.000000  1129.250000         14.000000    4.000000   \nmax    1462.000000   60.000000  1496.000000         29.000000    5.000000   \n\n       EmployeeCount  EmployeeNumber  EnvironmentSatisfaction  HourlyRate  \\\ncount          294.0      294.000000               294.000000  294.000000   \nmean             1.0     1016.486395                 2.605442   68.935374   \nstd              0.0      631.212630                 1.074418   20.218581   \nmin              1.0        2.000000                 1.000000   30.000000   \n25%              1.0      445.000000                 2.000000   52.000000   \n50%              1.0      966.500000                 3.000000   70.000000   \n75%              1.0     1556.250000                 3.000000   87.000000   \nmax              1.0     2056.000000                 4.000000  100.000000   \n\n       JobInvolvement  ...  RelationshipSatisfaction  StandardHours  \\\ncount      294.000000  ...                294.000000          294.0   \nmean         2.751701  ...                  2.704082           80.0   \nstd          0.698302  ...                  1.085516            0.0   \nmin          1.000000  ...                  1.000000           80.0   \n25%          2.000000  ...                  2.000000           80.0   \n50%          3.000000  ...                  3.000000           80.0   \n75%          3.000000  ...                  4.000000           80.0   \nmax          4.000000  ...                  4.000000           80.0   \n\n       StockOptionLevel  TotalWorkingYears  TrainingTimesLastYear  \\\ncount        294.000000         294.000000             294.000000   \nmean           0.748299          11.751701               2.928571   \nstd            0.795410           7.907933               1.428023   \nmin            0.000000           0.000000               0.000000   \n25%            0.000000           6.000000               2.000000   \n50%            1.000000          10.000000               3.000000   \n75%            1.000000          15.000000               3.000000   \nmax            3.000000          37.000000               6.000000   \n\n       WorkLifeBalance  YearsAtCompany  YearsInCurrentRole  \\\ncount       294.000000      294.000000          294.000000   \nmean          2.748299        7.112245            4.350340   \nstd           0.679726        6.263088            3.594134   \nmin           1.000000        0.000000            0.000000   \n25%           2.000000        3.000000            2.000000   \n50%           3.000000        5.000000            3.000000   \n75%           3.000000        9.750000            7.000000   \nmax           4.000000       36.000000           17.000000   \n\n       YearsSinceLastPromotion  YearsWithCurrManager  \ncount               294.000000            294.000000  \nmean                  2.295918              4.221088  \nstd                   3.282623              3.588296  \nmin                   0.000000              0.000000  \n25%                   0.000000              2.000000  \n50%                   1.000000              3.000000  \n75%                   3.000000              7.000000  \nmax                  15.000000             17.000000  \n\n[8 rows x 27 columns]\n"
    }
   ],
   "source": [
    "train_data = pd.read_csv(r'E:\\bi_course\\biCourse\\L1\\tue_course\\train.csv', encoding = 'gb18030')\n",
    "test_data = pd.read_csv(r'E:\\bi_course\\biCourse\\L1\\tue_course\\test.csv', encoding = 'gb18030')\n",
    "\n",
    "#数据探索\n",
    "print('训练数据行列数:',train_data.shape, '; 测试数据行列数:',test_data.shape)\n",
    "\n",
    "print('-'*20,'训练集数据探索','-'*20)\n",
    "train_data.info()\n",
    "print('-'*40,'-'*40)\n",
    "print(train_data.describe())\n",
    "\n",
    "print('-'*20,'测试集数据探索','-'*20)\n",
    "test_data.info()\n",
    "print('-'*40,'-'*40)\n",
    "print(test_data.describe())\n",
    "\n",
    "#对train 和 test 进行数据清洗: \n",
    "\n",
    "train_data = data_etl(train_data)\n",
    "test_data = data_etl(test_data)"
   ]
  },
  {
   "cell_type": "code",
   "execution_count": 307,
   "metadata": {},
   "outputs": [],
   "source": [
    "#特征列表\n",
    "\n",
    "features = list(set(train_data.columns.to_list()) - set(['user_id','Attrition']) )\n",
    "X_train,X_test, y_train, y_test = train_test_split(train_data[features], train_data['Attrition'], train_size = 0.7, random_state =1)   #模型训练集和测试集\n",
    "x_toPredict = test_data[features] #样本外需要预测的数据\n",
    "\n",
    "#数据规范化\n",
    "scaler = MinMaxScaler()\n",
    "\n",
    "X_train = scaler.fit_transform(X_train)\n",
    "X_test = scaler.fit_transform(X_test)\n",
    "x_toPredict = scaler.fit_transform(x_toPredict)\n",
    "\n",
    "#特征选择\n",
    "\n",
    "clf = XGBClassifier()\n",
    "clf.fit(X_train, y_train)\n",
    "\n",
    "importance = clf.feature_importances_\n",
    "\n",
    "importance_df = pd.DataFrame()\n",
    "importance_df['features'] = features\n",
    "importance_df['importance'] = importance\n",
    "importance_df.sort_values('importance', ascending= False)\n",
    "\n",
    "features_select = list(set(importance_df[importance_df['importance']> 0.01].features))\n",
    "\n",
    "X_train,X_test, y_train, y_test = train_test_split(train_data[features_select], train_data['Attrition'], train_size = 0.7, random_state =1)   #模型训练集和测试集\n",
    "x_toPredict = test_data[features_select] #样本外需要预测的数据\n",
    "\n",
    "#数据规范化\n",
    "scaler = MinMaxScaler()\n",
    "\n",
    "X_train = scaler.fit_transform(X_train)\n",
    "X_test = scaler.fit_transform(X_test)\n",
    "x_toPredict = scaler.fit_transform(x_toPredict)"
   ]
  },
  {
   "cell_type": "code",
   "execution_count": 308,
   "metadata": {},
   "outputs": [
    {
     "output_type": "execute_result",
     "data": {
      "text/plain": "                      clfName   score cv_score auc_score  \\\n0                 BernoulliNB  0.8433   0.8335    0.7354   \n0                  GaussianNB  0.7436   0.7253    0.6979   \n0          AdaBoostClassifier  0.9113   0.8554    0.6725   \n0  LinearDiscriminantAnalysis    0.87   0.8541    0.6093   \n0      DecisionTreeClassifier       1   0.7535    0.6064   \n0  GradientBoostingClassifier  0.9696   0.8494    0.6007   \n0               XGBClassifier       1    0.853    0.5872   \n0          LogisticRegression  0.8676   0.8578    0.5869   \n0        KNeighborsClassifier  0.8676   0.8153    0.5701   \n0      RandomForestClassifier  0.9854   0.8385    0.5681   \n0        ExtraTreesClassifier       1   0.8505    0.5464   \n0               MultinomialNB  0.8311   0.8311       0.5   \n0                         SVC  0.8311   0.8311       0.5   \n\n                                                 clf  \n0  BernoulliNB(alpha=1.0, binarize=0.0, class_pri...  \n0       GaussianNB(priors=None, var_smoothing=1e-09)  \n0  (DecisionTreeClassifier(class_weight=None, cri...  \n0  LinearDiscriminantAnalysis(n_components=None, ...  \n0  DecisionTreeClassifier(class_weight=None, crit...  \n0  ([DecisionTreeRegressor(criterion='friedman_ms...  \n0  XGBClassifier(base_score=0.5, booster='gbtree'...  \n0  LogisticRegression(C=1.0, class_weight=None, d...  \n0  KNeighborsClassifier(algorithm='auto', leaf_si...  \n0  (DecisionTreeClassifier(class_weight=None, cri...  \n0  (ExtraTreeClassifier(class_weight=None, criter...  \n0  MultinomialNB(alpha=1.0, class_prior=None, fit...  \n0  SVC(C=1.0, cache_size=200, class_weight=None, ...  ",
      "text/html": "<div>\n<style scoped>\n    .dataframe tbody tr th:only-of-type {\n        vertical-align: middle;\n    }\n\n    .dataframe tbody tr th {\n        vertical-align: top;\n    }\n\n    .dataframe thead th {\n        text-align: right;\n    }\n</style>\n<table border=\"1\" class=\"dataframe\">\n  <thead>\n    <tr style=\"text-align: right;\">\n      <th></th>\n      <th>clfName</th>\n      <th>score</th>\n      <th>cv_score</th>\n      <th>auc_score</th>\n      <th>clf</th>\n    </tr>\n  </thead>\n  <tbody>\n    <tr>\n      <td>0</td>\n      <td>BernoulliNB</td>\n      <td>0.8433</td>\n      <td>0.8335</td>\n      <td>0.7354</td>\n      <td>BernoulliNB(alpha=1.0, binarize=0.0, class_pri...</td>\n    </tr>\n    <tr>\n      <td>0</td>\n      <td>GaussianNB</td>\n      <td>0.7436</td>\n      <td>0.7253</td>\n      <td>0.6979</td>\n      <td>GaussianNB(priors=None, var_smoothing=1e-09)</td>\n    </tr>\n    <tr>\n      <td>0</td>\n      <td>AdaBoostClassifier</td>\n      <td>0.9113</td>\n      <td>0.8554</td>\n      <td>0.6725</td>\n      <td>(DecisionTreeClassifier(class_weight=None, cri...</td>\n    </tr>\n    <tr>\n      <td>0</td>\n      <td>LinearDiscriminantAnalysis</td>\n      <td>0.87</td>\n      <td>0.8541</td>\n      <td>0.6093</td>\n      <td>LinearDiscriminantAnalysis(n_components=None, ...</td>\n    </tr>\n    <tr>\n      <td>0</td>\n      <td>DecisionTreeClassifier</td>\n      <td>1</td>\n      <td>0.7535</td>\n      <td>0.6064</td>\n      <td>DecisionTreeClassifier(class_weight=None, crit...</td>\n    </tr>\n    <tr>\n      <td>0</td>\n      <td>GradientBoostingClassifier</td>\n      <td>0.9696</td>\n      <td>0.8494</td>\n      <td>0.6007</td>\n      <td>([DecisionTreeRegressor(criterion='friedman_ms...</td>\n    </tr>\n    <tr>\n      <td>0</td>\n      <td>XGBClassifier</td>\n      <td>1</td>\n      <td>0.853</td>\n      <td>0.5872</td>\n      <td>XGBClassifier(base_score=0.5, booster='gbtree'...</td>\n    </tr>\n    <tr>\n      <td>0</td>\n      <td>LogisticRegression</td>\n      <td>0.8676</td>\n      <td>0.8578</td>\n      <td>0.5869</td>\n      <td>LogisticRegression(C=1.0, class_weight=None, d...</td>\n    </tr>\n    <tr>\n      <td>0</td>\n      <td>KNeighborsClassifier</td>\n      <td>0.8676</td>\n      <td>0.8153</td>\n      <td>0.5701</td>\n      <td>KNeighborsClassifier(algorithm='auto', leaf_si...</td>\n    </tr>\n    <tr>\n      <td>0</td>\n      <td>RandomForestClassifier</td>\n      <td>0.9854</td>\n      <td>0.8385</td>\n      <td>0.5681</td>\n      <td>(DecisionTreeClassifier(class_weight=None, cri...</td>\n    </tr>\n    <tr>\n      <td>0</td>\n      <td>ExtraTreesClassifier</td>\n      <td>1</td>\n      <td>0.8505</td>\n      <td>0.5464</td>\n      <td>(ExtraTreeClassifier(class_weight=None, criter...</td>\n    </tr>\n    <tr>\n      <td>0</td>\n      <td>MultinomialNB</td>\n      <td>0.8311</td>\n      <td>0.8311</td>\n      <td>0.5</td>\n      <td>MultinomialNB(alpha=1.0, class_prior=None, fit...</td>\n    </tr>\n    <tr>\n      <td>0</td>\n      <td>SVC</td>\n      <td>0.8311</td>\n      <td>0.8311</td>\n      <td>0.5</td>\n      <td>SVC(C=1.0, cache_size=200, class_weight=None, ...</td>\n    </tr>\n  </tbody>\n</table>\n</div>"
     },
     "metadata": {},
     "execution_count": 308
    }
   ],
   "source": [
    "\n",
    "#训练不同模型并得到评估结果\n",
    "\n",
    "clfList = [DecisionTreeClassifier(), LogisticRegression(), GaussianNB(),MultinomialNB(),BernoulliNB(),svm.SVC(), ExtraTreesClassifier(),\\\n",
    "            RandomForestClassifier(), KNeighborsClassifier(), AdaBoostClassifier(),GradientBoostingClassifier(), XGBClassifier(), LinearDiscriminantAnalysis(),]\n",
    "\n",
    "score_report = pd.DataFrame()\n",
    "\n",
    "for clf in clfList:\n",
    "\n",
    "    result = get_model_score(clf, X_train, y_train, X_test, y_test)\n",
    "    score_report = score_report.append(result)\n",
    "\n",
    "# score_report\n",
    "score_report = score_report.sort_values(by = 'auc_score', ascending = False)\n",
    "score_report"
   ]
  },
  {
   "cell_type": "code",
   "execution_count": 309,
   "metadata": {
    "tags": []
   },
   "outputs": [
    {
     "output_type": "stream",
     "name": "stdout",
     "text": "bestModel: BernoulliNB(alpha=1.0, binarize=0.0, class_prior=None, fit_prior=True)\nsubmission to csv done\n"
    }
   ],
   "source": [
    "#拿最优模型预测df_toPredict(即test数据集)\n",
    "\n",
    "bestModel = score_report.iloc[0]['clf']\n",
    "bestModel.fit(X_train, y_train)\n",
    "\n",
    "print('bestModel:', bestModel)\n",
    "\n",
    "sumbmission = pd.DataFrame()\n",
    "sumbmission['user_id'] = test_data['user_id']\n",
    "temp = pd.DataFrame(bestModel.predict_proba(x_toPredict),columns=['不流失概率','Attrition'])\n",
    "sumbmission['Attrition'] = temp['Attrition'] #用最优模型对y值进行预测\n",
    "sumbmission = sumbmission.set_index('user_id').sort_index()\n",
    "\n",
    "sumbmission.to_csv('hr_submission.csv', header = True)\n",
    "\n",
    "print('submission to csv done')"
   ]
  }
 ]
}