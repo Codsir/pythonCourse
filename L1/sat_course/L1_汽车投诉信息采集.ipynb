{
 "metadata": {
  "language_info": {
   "codemirror_mode": {
    "name": "ipython",
    "version": 3
   },
   "file_extension": ".py",
   "mimetype": "text/x-python",
   "name": "python",
   "nbconvert_exporter": "python",
   "pygments_lexer": "ipython3",
   "version": "3.7.4-final"
  },
  "orig_nbformat": 2,
  "kernelspec": {
   "name": "python_defaultSpec_1599402066792",
   "display_name": "Python 3.7.4 64-bit ('base': conda)"
  }
 },
 "nbformat": 4,
 "nbformat_minor": 2,
 "cells": [
  {
   "cell_type": "markdown",
   "metadata": {},
   "source": [
    "#### Action2: 汽车投诉信息采集： \n",
    "- 数据源：http://www.12365auto.com/zlts/0-0-0-0-0-0_0-0-1.shtml\n",
    "- 投诉编号，投诉品牌，投诉车系，投诉车型，问题简述，典型问题，投诉时间，投诉状态\n",
    "- 可以采用Python爬虫，或者第三方可视化工具"
   ]
  },
  {
   "cell_type": "code",
   "execution_count": null,
   "metadata": {},
   "outputs": [],
   "source": [
    "import pandas as pd"
   ]
  },
  {
   "cell_type": "code",
   "execution_count": 5,
   "metadata": {},
   "outputs": [
    {
     "output_type": "execute_result",
     "data": {
      "text/plain": "     投诉编号   投诉品牌   投诉车系                       投诉车型                  问题简述  \\\n0  518886  一汽-大众     迈腾       2017款 330TSI DSG 豪华型      一汽大众迈腾仪表提示机电单元故障   \n1  518885   广汽丰田    凯美瑞  2011款 200G 2.0 自动 经典周年纪念版      广汽丰田凯美瑞仪表台软化反光出油   \n2  518883  一汽-大众     迈腾       2020款 330TSI DSG 领先型      一汽大众迈腾中控屏一个周死机两次   \n3  518880   东风标致  标致408          2014款 1.6T 自动 尊贵版  东风标致408空调不制冷压缩机质量有问题   \n4  518875   北京现代     朗动          2013款 1.6L 自动 领先型   北京现代朗动中控液晶屏黑屏希望厂家处理   \n\n      典型问题        投诉时间  投诉状态  \n0      变速器  2020-09-06  信息审核  \n1  车身附件及电器  2020-09-06  信息审核  \n2  车身附件及电器  2020-09-06  信息审核  \n3  车身附件及电器  2020-09-06  信息审核  \n4  车身附件及电器  2020-09-06  信息审核  ",
      "text/html": "<div>\n<style scoped>\n    .dataframe tbody tr th:only-of-type {\n        vertical-align: middle;\n    }\n\n    .dataframe tbody tr th {\n        vertical-align: top;\n    }\n\n    .dataframe thead th {\n        text-align: right;\n    }\n</style>\n<table border=\"1\" class=\"dataframe\">\n  <thead>\n    <tr style=\"text-align: right;\">\n      <th></th>\n      <th>投诉编号</th>\n      <th>投诉品牌</th>\n      <th>投诉车系</th>\n      <th>投诉车型</th>\n      <th>问题简述</th>\n      <th>典型问题</th>\n      <th>投诉时间</th>\n      <th>投诉状态</th>\n    </tr>\n  </thead>\n  <tbody>\n    <tr>\n      <td>0</td>\n      <td>518886</td>\n      <td>一汽-大众</td>\n      <td>迈腾</td>\n      <td>2017款 330TSI DSG 豪华型</td>\n      <td>一汽大众迈腾仪表提示机电单元故障</td>\n      <td>变速器</td>\n      <td>2020-09-06</td>\n      <td>信息审核</td>\n    </tr>\n    <tr>\n      <td>1</td>\n      <td>518885</td>\n      <td>广汽丰田</td>\n      <td>凯美瑞</td>\n      <td>2011款 200G 2.0 自动 经典周年纪念版</td>\n      <td>广汽丰田凯美瑞仪表台软化反光出油</td>\n      <td>车身附件及电器</td>\n      <td>2020-09-06</td>\n      <td>信息审核</td>\n    </tr>\n    <tr>\n      <td>2</td>\n      <td>518883</td>\n      <td>一汽-大众</td>\n      <td>迈腾</td>\n      <td>2020款 330TSI DSG 领先型</td>\n      <td>一汽大众迈腾中控屏一个周死机两次</td>\n      <td>车身附件及电器</td>\n      <td>2020-09-06</td>\n      <td>信息审核</td>\n    </tr>\n    <tr>\n      <td>3</td>\n      <td>518880</td>\n      <td>东风标致</td>\n      <td>标致408</td>\n      <td>2014款 1.6T 自动 尊贵版</td>\n      <td>东风标致408空调不制冷压缩机质量有问题</td>\n      <td>车身附件及电器</td>\n      <td>2020-09-06</td>\n      <td>信息审核</td>\n    </tr>\n    <tr>\n      <td>4</td>\n      <td>518875</td>\n      <td>北京现代</td>\n      <td>朗动</td>\n      <td>2013款 1.6L 自动 领先型</td>\n      <td>北京现代朗动中控液晶屏黑屏希望厂家处理</td>\n      <td>车身附件及电器</td>\n      <td>2020-09-06</td>\n      <td>信息审核</td>\n    </tr>\n  </tbody>\n</table>\n</div>"
     },
     "metadata": {},
     "execution_count": 5
    }
   ],
   "source": [
    "#用八爪鱼爬虫, 爬虫结果\n",
    "\n",
    "carComplaints  = pd.read_csv(r'E:\\bi_course\\L1\\sat_course\\汽车质量投诉 - 车质网.csv', encoding = 'utf-8')\n",
    "carComplaints.head()"
   ]
  },
  {
   "cell_type": "code",
   "execution_count": 7,
   "metadata": {
    "tags": []
   },
   "outputs": [
    {
     "output_type": "stream",
     "name": "stdout",
     "text": "<class 'pandas.core.frame.DataFrame'>\nRangeIndex: 1161 entries, 0 to 1160\nData columns (total 8 columns):\n投诉编号    1161 non-null int64\n投诉品牌    1161 non-null object\n投诉车系    1161 non-null object\n投诉车型    1161 non-null object\n问题简述    1161 non-null object\n典型问题    1064 non-null object\n投诉时间    1161 non-null object\n投诉状态    1161 non-null object\ndtypes: int64(1), object(7)\nmemory usage: 72.7+ KB\n"
    }
   ],
   "source": [
    "carComplaints.info()"
   ]
  }
 ]
}