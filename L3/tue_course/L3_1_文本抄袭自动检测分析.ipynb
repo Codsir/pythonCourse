{
 "metadata": {
  "language_info": {
   "codemirror_mode": {
    "name": "ipython",
    "version": 3
   },
   "file_extension": ".py",
   "mimetype": "text/x-python",
   "name": "python",
   "nbconvert_exporter": "python",
   "pygments_lexer": "ipython3",
   "version": "3.7.4-final"
  },
  "orig_nbformat": 2,
  "kernelspec": {
   "name": "python_defaultSpec_1599407439282",
   "display_name": "Python 3.7.4 64-bit ('base': conda)"
  }
 },
 "nbformat": 4,
 "nbformat_minor": 2,
 "cells": [
  {
   "cell_type": "markdown",
   "metadata": {},
   "source": [
    "#### action\n",
    "文本抄袭自动检测分析:\n",
    "如果你是某新闻单位工作人员（这里假设source=新华社），为了防止其他媒体抄袭你的文章，你打算做一个抄袭自动检测分析的工具\n",
    "1）定义可能抄袭的文章来源\n",
    "2）与原文对比定位抄袭的地方\n",
    "原始数据：sqlResult.csv，共计89611篇\n",
    "从数据库导出的文章，字段包括：id, author, source, content, feature, title, url\n",
    "常用中文停用词：chinese_stopwords.txt"
   ]
  },
  {
   "cell_type": "code",
   "execution_count": 3,
   "metadata": {},
   "outputs": [],
   "source": [
    "import pandas as pd\n",
    "import numpy as np\n",
    "import jieba"
   ]
  },
  {
   "cell_type": "code",
   "execution_count": 5,
   "metadata": {
    "tags": []
   },
   "outputs": [
    {
     "output_type": "stream",
     "name": "stdout",
     "text": "(89611, 7)\n文章内容为空的数量: 2557\n删除空内容的文章后数量: 87054\n"
    }
   ],
   "source": [
    "#数据加载与预览\n",
    "\n",
    "artical = pd.read_csv(r'E:\\bi_course\\L3\\tue_course\\sqlResult.csv', encoding = 'gb18030')\n",
    "print(artical.shape)\n",
    "\n",
    "#文章内容为空的数量\n",
    "print(\"文章内容为空的数量:\", len(artical[artical.content.isna()]) )\n",
    "\n",
    "#删除文章内容为空\n",
    "artical.dropna(subset = ['content'], inplace = True)\n",
    "print(\"删除空内容的文章后数量:\", artical.shape[0])"
   ]
  },
  {
   "cell_type": "code",
   "execution_count": 7,
   "metadata": {
    "tags": []
   },
   "outputs": [],
   "source": [
    "#对文章进行分词处理\n",
    "\n",
    "f = open(r\"E:\\bi_course\\L3\\tue_course\\chinese_stopwords.txt\",\"r\", encoding = 'utf-8')\n",
    "stopwords = [ word[:-1] for  word in f.readlines()] #[:-1]表示删除\\n字符\n",
    "\n",
    "def split_text(text):\n",
    "    text = text.replace(' ','').replace('\\r','').replace('\\n','') #\\r 回车, \\n换行\n",
    "    words = jieba.cut(text) \n",
    "    result  = ' '.join([w for  w in words if w not in stopwords] )\n",
    "    return result"
   ]
  },
  {
   "cell_type": "code",
   "execution_count": 8,
   "metadata": {
    "tags": []
   },
   "outputs": [
    {
     "output_type": "stream",
     "name": "stderr",
     "text": "Building prefix dict from the default dictionary ...\nLoading model from cache D:\\UserData\\Zoni\\Temp\\jieba.cache\nLoading model cost 1.014 seconds.\nPrefix dict has been built succesfully.\n"
    }
   ],
   "source": [
    "corpus = list( artical.content.apply( lambda x : split_text(x)) )"
   ]
  },
  {
   "cell_type": "code",
   "execution_count": 9,
   "metadata": {
    "tags": []
   },
   "outputs": [],
   "source": [
    "from sklearn.feature_extraction.text import CountVectorizer, TfidfTransformer\n",
    "\n",
    "#计算语料库corpus的TD-IDF\n",
    "\n",
    "cv = CountVectorizer(encoding = 'gb18030', min_df= 0.015)\n",
    "tfiftransformer = TfidfTransformer()\n",
    "contervector = cv.fit_transform(corpus)\n",
    "# print(contervector)\n",
    "tfdif = tfiftransformer.fit_transform(contervector)\n"
   ]
  },
  {
   "cell_type": "code",
   "execution_count": 58,
   "metadata": {},
   "outputs": [],
   "source": [
    "#标记是否为新华社的新闻\n",
    "label = list(artical.source.apply(lambda x: 1 if '新华社' in str(x)  else 0))"
   ]
  },
  {
   "cell_type": "code",
   "execution_count": 59,
   "metadata": {
    "tags": []
   },
   "outputs": [
    {
     "output_type": "stream",
     "name": "stdout",
     "text": "准确率: 0.8285\n精确率: 0.9661\n召回率: 0.8397\n"
    }
   ],
   "source": [
    "from sklearn.model_selection import train_test_split\n",
    "from sklearn.naive_bayes import BernoulliNB\n",
    "from sklearn.metrics import accuracy_score, precision_score, recall_score\n",
    "\n",
    "X_train, X_test, y_train, y_test = train_test_split(tfdif.toarray(), label, train_size = 0.7)\n",
    "clf = BernoulliNB()\n",
    "\n",
    "clf.fit(X_train, y_train)\n",
    "y_predict = clf.predict(X_test)\n",
    "\n",
    "\n",
    "print('准确率:', round(accuracy_score(y_test, y_predict),4))\n",
    "print('精确率:', round(precision_score(y_test, y_predict),4))\n",
    "print('召回率:', round(recall_score(y_test, y_predict),4))"
   ]
  },
  {
   "cell_type": "code",
   "execution_count": 60,
   "metadata": {
    "tags": []
   },
   "outputs": [
    {
     "output_type": "stream",
     "name": "stdout",
     "text": "可能抄袭文章数: 2265\n"
    }
   ],
   "source": [
    "#使用模型进行风格预测\n",
    "\n",
    "prediction = clf.predict(tfdif.toarray())\n",
    "actual = np.array(label)\n",
    "\n",
    "#比较预测风格和是否为新华社文章:\n",
    "comparison = pd.DataFrame({'prediction':prediction, 'actual':actual})\n",
    "comparison['copy'] = 0\n",
    "comparison.loc[(comparison['prediction'] == 1 ) & (comparison['actual'] == 0), 'copy'] = 1 #预测文章是新华社 实际不是新华社, 则有抄袭嫌疑\n",
    "copy_article  = comparison[comparison['copy'] == 1]\n",
    "copy_article.index = copy_article.index\n",
    "\n",
    "print('可能抄袭文章数:', len(copy_article))"
   ]
  },
  {
   "cell_type": "code",
   "execution_count": null,
   "metadata": {},
   "outputs": [],
   "source": []
  },
  {
   "cell_type": "code",
   "execution_count": 61,
   "metadata": {},
   "outputs": [
    {
     "output_type": "execute_result",
     "data": {
      "text/plain": "Int64Index([   0,    1,    2,   10,   15,   16,   18,   24,   25,   28,\n            ...\n            8516, 8523, 8531, 8534, 8535, 8538, 8539, 8546, 8549, 8553],\n           dtype='int64', length=2265)"
     },
     "metadata": {},
     "execution_count": 61
    }
   ],
   "source": [
    "copy_article.index"
   ]
  },
  {
   "cell_type": "code",
   "execution_count": 13,
   "metadata": {
    "tags": []
   },
   "outputs": [
    {
     "output_type": "stream",
     "name": "stdout",
     "text": "(87054,)\n"
    }
   ],
   "source": [
    "from sklearn.preprocessing import Normalizer\n",
    "from sklearn.cluster import KMeans\n",
    "normalizer = Normalizer()\n",
    "scaled_array = normalizer.fit_transform(tfdif.toarray())\n",
    "\n",
    "#使用聚类对全部文章进行聚类: 分为20类\n",
    "\n",
    "km = KMeans( n_clusters= 20)\n",
    "k_labels = km.fit_predict(scaled_array)\n",
    "print(k_labels.shape)"
   ]
  },
  {
   "cell_type": "code",
   "execution_count": 62,
   "metadata": {},
   "outputs": [],
   "source": [
    "#创建id_class\n",
    "\n",
    "id_class = {index: class_ for index, class_ in enumerate (k_labels)} #文章经过kmeans的分类\n",
    "\n",
    "from collections import defaultdict\n",
    "class_id = defaultdict(set)\n",
    "\n",
    "for index, class_ in id_class.items():\n",
    "    if index in xinhuashe_article.index.to_list():\n",
    "        class_id[class_].add(index)"
   ]
  },
  {
   "cell_type": "code",
   "execution_count": 63,
   "metadata": {},
   "outputs": [],
   "source": [
    "from sklearn.metrics.pairwise import cosine_similarity\n",
    "#查找相似文章\n",
    "\n",
    "def search_similar_article ( cpindex, top = 10):\n",
    "    #只在新华社发布的文章中找\n",
    "    dist_dict = {i: cosine_similarity(tfdif[cpindex], tfdif[i]) for i in class_id [id_class[cpindex]]}\n",
    "    return sorted (dist_dict.items(), key = lambda x:x[1][0], reverse= True)[:top]"
   ]
  },
  {
   "cell_type": "code",
   "execution_count": 68,
   "metadata": {
    "tags": []
   },
   "outputs": [
    {
     "output_type": "stream",
     "name": "stdout",
     "text": "是否新华社文章: True\n是否抄袭文章: False\n========================================\n[(49540, array([[1.]])), (49796, array([[0.97036236]])), (48683, array([[0.55479432]])), (49611, array([[0.54022663]])), (52355, array([[0.49310926]])), (47376, array([[0.48170242]])), (48628, array([[0.42808007]])), (48610, array([[0.41713253]])), (52516, array([[0.40458922]])), (48303, array([[0.40101725]]))]\n========================================\n怀疑抄袭:\n 　　新华社大马士革５月６日电（记者车宏亮）据叙利亚《祖国报》网站６日报道，在叙利亚建立“冲突降级区”协议于当天零时开始生效。\\n　　俄罗斯近日提出在叙西北部伊德利卜省、中部霍姆斯省、大马士革郊区和叙南部地区分别设立“冲突降级区”，在其周边划定安全线、设立检查站，防止冲突发生。俄罗斯、土耳其和伊朗将作为“冲突降级区”担保国，可能出兵监督区内停火执行情况，此外，极端组织势力不得在区内活动。\\n　　俄土伊三国代表４日在哈萨克斯坦首都阿斯塔纳签署了关于在叙利亚建立“冲突降级区”的备忘录。对此俄方政要认为，切实建立“冲突降级区”有助于叙政府和反对派保持停火并适时启动政治和谈。\\n　　联合国秘书长古特雷斯４日通过发言人发表声明，对俄土伊三国就在叙利亚建立“冲突降级区”达成协议感到鼓舞，欢迎各方重申政治解决叙利亚问题的重要性。（完）\\n\n========================================\n相似的原文:\n 　　新华社大马士革５月６日电（记者车宏亮）据叙利亚《祖国报》网站６日报道，在叙利亚建立“冲突降级区”协议于当天零时开始生效。\\n　　俄罗斯近日提出在叙西北部伊德利卜省、中部霍姆斯省、大马士革郊区和叙南部地区分别设立“冲突降级区”，在其周边划定安全线、设立检查站，防止冲突发生。俄罗斯、土耳其和伊朗将作为“冲突降级区”担保国，可能出兵监督区内停火执行情况，此外，极端组织势力不得在区内活动。\\n　　俄土伊三国代表４日在哈萨克斯坦首都阿斯塔纳签署了关于在叙利亚建立“冲突降级区”的备忘录。对此俄方政要认为，切实建立“冲突降级区”有助于叙政府和反对派保持停火并适时启动政治和谈。\\n　　联合国秘书长古特雷斯４日通过发言人发表声明，对俄土伊三国就在叙利亚建立“冲突降级区”达成协议感到鼓舞，欢迎各方重申政治解决叙利亚问题的重要性。（完）\\n\n"
    }
   ],
   "source": [
    "cpindex = 49540\n",
    "print('是否新华社文章:', cpindex in xinhuashe_article_index)\n",
    "print('是否抄袭文章:', cpindex in copy_article.index )\n",
    "\n",
    "print('='*40)\n",
    "\n",
    "similar_list = search_similar_article(cpindex)\n",
    "print(similar_list)\n",
    "\n",
    "print('='*40)\n",
    "\n",
    "print('怀疑抄袭:\\n', artical.iloc[cpindex].content)\n",
    "\n",
    "\n",
    "print('='*40)\n",
    "#找一篇相似的原文\n",
    "similar2 = similar_list[0][0]\n",
    "print('相似的原文:\\n', artical.iloc[similar2].content)"
   ]
  }
 ]
}